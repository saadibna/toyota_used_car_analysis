{
 "cells": [
  {
   "cell_type": "markdown",
   "id": "bc24321a",
   "metadata": {},
   "source": [
    "### Used Car(Toyota) data analysis for maching learning with python\n",
    "\n",
    "#### References:\n",
    "dataset source: https://www.kaggle.com/aishwaryamuthukumar/cars-dataset-audi-bmw-ford-hyundai-skoda-vw"
   ]
  },
  {
   "cell_type": "markdown",
   "id": "c0588ff6",
   "metadata": {},
   "source": [
    "#### import required libraries"
   ]
  },
  {
   "cell_type": "code",
   "execution_count": 63,
   "id": "fa1e71c4",
   "metadata": {},
   "outputs": [],
   "source": [
    "import pandas as pd\n",
    "import numpy as np\n",
    "from sklearn.model_selection import train_test_split\n",
    "from sklearn.linear_model import LinearRegression\n",
    "from sklearn.metrics import mean_squared_error, mean_absolute_error, r2_score"
   ]
  },
  {
   "cell_type": "markdown",
   "id": "734bef39",
   "metadata": {},
   "source": [
    "#### Load data"
   ]
  },
  {
   "cell_type": "code",
   "execution_count": 64,
   "id": "64412f47",
   "metadata": {},
   "outputs": [
    {
     "data": {
      "text/html": [
       "<div>\n",
       "<style scoped>\n",
       "    .dataframe tbody tr th:only-of-type {\n",
       "        vertical-align: middle;\n",
       "    }\n",
       "\n",
       "    .dataframe tbody tr th {\n",
       "        vertical-align: top;\n",
       "    }\n",
       "\n",
       "    .dataframe thead th {\n",
       "        text-align: right;\n",
       "    }\n",
       "</style>\n",
       "<table border=\"1\" class=\"dataframe\">\n",
       "  <thead>\n",
       "    <tr style=\"text-align: right;\">\n",
       "      <th></th>\n",
       "      <th>model</th>\n",
       "      <th>year</th>\n",
       "      <th>price</th>\n",
       "      <th>transmission</th>\n",
       "      <th>mileage</th>\n",
       "      <th>fuelType</th>\n",
       "      <th>mpg</th>\n",
       "      <th>engineSize</th>\n",
       "    </tr>\n",
       "  </thead>\n",
       "  <tbody>\n",
       "    <tr>\n",
       "      <th>0</th>\n",
       "      <td>GT86</td>\n",
       "      <td>2016</td>\n",
       "      <td>16000</td>\n",
       "      <td>Manual</td>\n",
       "      <td>24089</td>\n",
       "      <td>Petrol</td>\n",
       "      <td>36.2</td>\n",
       "      <td>2.0</td>\n",
       "    </tr>\n",
       "    <tr>\n",
       "      <th>1</th>\n",
       "      <td>GT86</td>\n",
       "      <td>2017</td>\n",
       "      <td>15995</td>\n",
       "      <td>Manual</td>\n",
       "      <td>18615</td>\n",
       "      <td>Petrol</td>\n",
       "      <td>36.2</td>\n",
       "      <td>2.0</td>\n",
       "    </tr>\n",
       "    <tr>\n",
       "      <th>2</th>\n",
       "      <td>GT86</td>\n",
       "      <td>2015</td>\n",
       "      <td>13998</td>\n",
       "      <td>Manual</td>\n",
       "      <td>27469</td>\n",
       "      <td>Petrol</td>\n",
       "      <td>36.2</td>\n",
       "      <td>2.0</td>\n",
       "    </tr>\n",
       "    <tr>\n",
       "      <th>3</th>\n",
       "      <td>GT86</td>\n",
       "      <td>2017</td>\n",
       "      <td>18998</td>\n",
       "      <td>Manual</td>\n",
       "      <td>14736</td>\n",
       "      <td>Petrol</td>\n",
       "      <td>36.2</td>\n",
       "      <td>2.0</td>\n",
       "    </tr>\n",
       "    <tr>\n",
       "      <th>4</th>\n",
       "      <td>GT86</td>\n",
       "      <td>2017</td>\n",
       "      <td>17498</td>\n",
       "      <td>Manual</td>\n",
       "      <td>36284</td>\n",
       "      <td>Petrol</td>\n",
       "      <td>36.2</td>\n",
       "      <td>2.0</td>\n",
       "    </tr>\n",
       "  </tbody>\n",
       "</table>\n",
       "</div>"
      ],
      "text/plain": [
       "   model  year  price transmission  mileage fuelType   mpg  engineSize\n",
       "0   GT86  2016  16000       Manual    24089   Petrol  36.2         2.0\n",
       "1   GT86  2017  15995       Manual    18615   Petrol  36.2         2.0\n",
       "2   GT86  2015  13998       Manual    27469   Petrol  36.2         2.0\n",
       "3   GT86  2017  18998       Manual    14736   Petrol  36.2         2.0\n",
       "4   GT86  2017  17498       Manual    36284   Petrol  36.2         2.0"
      ]
     },
     "metadata": {},
     "output_type": "display_data"
    },
    {
     "data": {
      "text/html": [
       "<div>\n",
       "<style scoped>\n",
       "    .dataframe tbody tr th:only-of-type {\n",
       "        vertical-align: middle;\n",
       "    }\n",
       "\n",
       "    .dataframe tbody tr th {\n",
       "        vertical-align: top;\n",
       "    }\n",
       "\n",
       "    .dataframe thead th {\n",
       "        text-align: right;\n",
       "    }\n",
       "</style>\n",
       "<table border=\"1\" class=\"dataframe\">\n",
       "  <thead>\n",
       "    <tr style=\"text-align: right;\">\n",
       "      <th></th>\n",
       "      <th>model</th>\n",
       "      <th>year</th>\n",
       "      <th>price</th>\n",
       "      <th>transmission</th>\n",
       "      <th>mileage</th>\n",
       "      <th>fuelType</th>\n",
       "      <th>mpg</th>\n",
       "      <th>engineSize</th>\n",
       "    </tr>\n",
       "  </thead>\n",
       "  <tbody>\n",
       "    <tr>\n",
       "      <th>6733</th>\n",
       "      <td>IQ</td>\n",
       "      <td>2011</td>\n",
       "      <td>5500</td>\n",
       "      <td>Automatic</td>\n",
       "      <td>30000</td>\n",
       "      <td>Petrol</td>\n",
       "      <td>58.9</td>\n",
       "      <td>1.0</td>\n",
       "    </tr>\n",
       "    <tr>\n",
       "      <th>6734</th>\n",
       "      <td>Urban Cruiser</td>\n",
       "      <td>2011</td>\n",
       "      <td>4985</td>\n",
       "      <td>Manual</td>\n",
       "      <td>36154</td>\n",
       "      <td>Petrol</td>\n",
       "      <td>50.4</td>\n",
       "      <td>1.3</td>\n",
       "    </tr>\n",
       "    <tr>\n",
       "      <th>6735</th>\n",
       "      <td>Urban Cruiser</td>\n",
       "      <td>2012</td>\n",
       "      <td>4995</td>\n",
       "      <td>Manual</td>\n",
       "      <td>46000</td>\n",
       "      <td>Diesel</td>\n",
       "      <td>57.6</td>\n",
       "      <td>1.4</td>\n",
       "    </tr>\n",
       "    <tr>\n",
       "      <th>6736</th>\n",
       "      <td>Urban Cruiser</td>\n",
       "      <td>2011</td>\n",
       "      <td>3995</td>\n",
       "      <td>Manual</td>\n",
       "      <td>60700</td>\n",
       "      <td>Petrol</td>\n",
       "      <td>50.4</td>\n",
       "      <td>1.3</td>\n",
       "    </tr>\n",
       "    <tr>\n",
       "      <th>6737</th>\n",
       "      <td>Urban Cruiser</td>\n",
       "      <td>2011</td>\n",
       "      <td>4495</td>\n",
       "      <td>Manual</td>\n",
       "      <td>45128</td>\n",
       "      <td>Petrol</td>\n",
       "      <td>50.4</td>\n",
       "      <td>1.3</td>\n",
       "    </tr>\n",
       "  </tbody>\n",
       "</table>\n",
       "</div>"
      ],
      "text/plain": [
       "               model  year  price transmission  mileage fuelType   mpg  \\\n",
       "6733              IQ  2011   5500    Automatic    30000   Petrol  58.9   \n",
       "6734   Urban Cruiser  2011   4985       Manual    36154   Petrol  50.4   \n",
       "6735   Urban Cruiser  2012   4995       Manual    46000   Diesel  57.6   \n",
       "6736   Urban Cruiser  2011   3995       Manual    60700   Petrol  50.4   \n",
       "6737   Urban Cruiser  2011   4495       Manual    45128   Petrol  50.4   \n",
       "\n",
       "      engineSize  \n",
       "6733         1.0  \n",
       "6734         1.3  \n",
       "6735         1.4  \n",
       "6736         1.3  \n",
       "6737         1.3  "
      ]
     },
     "metadata": {},
     "output_type": "display_data"
    },
    {
     "name": "stdout",
     "output_type": "stream",
     "text": [
      "(6738, 8)\n"
     ]
    }
   ],
   "source": [
    "df = pd.read_csv(\"toyota.csv\")\n",
    "\n",
    "display(df.head())\n",
    "display(df.tail())\n",
    "print(df.shape)"
   ]
  },
  {
   "cell_type": "code",
   "execution_count": 65,
   "id": "235961e8",
   "metadata": {},
   "outputs": [
    {
     "name": "stdout",
     "output_type": "stream",
     "text": [
      "<class 'pandas.core.frame.DataFrame'>\n",
      "RangeIndex: 6738 entries, 0 to 6737\n",
      "Data columns (total 8 columns):\n",
      " #   Column        Non-Null Count  Dtype  \n",
      "---  ------        --------------  -----  \n",
      " 0   model         6738 non-null   object \n",
      " 1   year          6738 non-null   int64  \n",
      " 2   price         6738 non-null   int64  \n",
      " 3   transmission  6738 non-null   object \n",
      " 4   mileage       6738 non-null   int64  \n",
      " 5   fuelType      6738 non-null   object \n",
      " 6   mpg           6738 non-null   float64\n",
      " 7   engineSize    6738 non-null   float64\n",
      "dtypes: float64(2), int64(3), object(3)\n",
      "memory usage: 421.2+ KB\n"
     ]
    }
   ],
   "source": [
    "df.info()"
   ]
  },
  {
   "cell_type": "code",
   "execution_count": 66,
   "id": "9b84dc20",
   "metadata": {},
   "outputs": [
    {
     "data": {
      "text/html": [
       "<div>\n",
       "<style scoped>\n",
       "    .dataframe tbody tr th:only-of-type {\n",
       "        vertical-align: middle;\n",
       "    }\n",
       "\n",
       "    .dataframe tbody tr th {\n",
       "        vertical-align: top;\n",
       "    }\n",
       "\n",
       "    .dataframe thead th {\n",
       "        text-align: right;\n",
       "    }\n",
       "</style>\n",
       "<table border=\"1\" class=\"dataframe\">\n",
       "  <thead>\n",
       "    <tr style=\"text-align: right;\">\n",
       "      <th></th>\n",
       "      <th>year</th>\n",
       "      <th>price</th>\n",
       "      <th>mileage</th>\n",
       "      <th>mpg</th>\n",
       "      <th>engineSize</th>\n",
       "    </tr>\n",
       "  </thead>\n",
       "  <tbody>\n",
       "    <tr>\n",
       "      <th>count</th>\n",
       "      <td>6738.000000</td>\n",
       "      <td>6738.000000</td>\n",
       "      <td>6738.000000</td>\n",
       "      <td>6738.000000</td>\n",
       "      <td>6738.000000</td>\n",
       "    </tr>\n",
       "    <tr>\n",
       "      <th>mean</th>\n",
       "      <td>2016.748145</td>\n",
       "      <td>12522.391066</td>\n",
       "      <td>22857.413921</td>\n",
       "      <td>63.042223</td>\n",
       "      <td>1.471297</td>\n",
       "    </tr>\n",
       "    <tr>\n",
       "      <th>std</th>\n",
       "      <td>2.204062</td>\n",
       "      <td>6345.017587</td>\n",
       "      <td>19125.464147</td>\n",
       "      <td>15.836710</td>\n",
       "      <td>0.436159</td>\n",
       "    </tr>\n",
       "    <tr>\n",
       "      <th>min</th>\n",
       "      <td>1998.000000</td>\n",
       "      <td>850.000000</td>\n",
       "      <td>2.000000</td>\n",
       "      <td>2.800000</td>\n",
       "      <td>0.000000</td>\n",
       "    </tr>\n",
       "    <tr>\n",
       "      <th>25%</th>\n",
       "      <td>2016.000000</td>\n",
       "      <td>8290.000000</td>\n",
       "      <td>9446.000000</td>\n",
       "      <td>55.400000</td>\n",
       "      <td>1.000000</td>\n",
       "    </tr>\n",
       "    <tr>\n",
       "      <th>50%</th>\n",
       "      <td>2017.000000</td>\n",
       "      <td>10795.000000</td>\n",
       "      <td>18513.000000</td>\n",
       "      <td>62.800000</td>\n",
       "      <td>1.500000</td>\n",
       "    </tr>\n",
       "    <tr>\n",
       "      <th>75%</th>\n",
       "      <td>2018.000000</td>\n",
       "      <td>14995.000000</td>\n",
       "      <td>31063.750000</td>\n",
       "      <td>69.000000</td>\n",
       "      <td>1.800000</td>\n",
       "    </tr>\n",
       "    <tr>\n",
       "      <th>max</th>\n",
       "      <td>2020.000000</td>\n",
       "      <td>59995.000000</td>\n",
       "      <td>174419.000000</td>\n",
       "      <td>235.000000</td>\n",
       "      <td>4.500000</td>\n",
       "    </tr>\n",
       "  </tbody>\n",
       "</table>\n",
       "</div>"
      ],
      "text/plain": [
       "              year         price        mileage          mpg   engineSize\n",
       "count  6738.000000   6738.000000    6738.000000  6738.000000  6738.000000\n",
       "mean   2016.748145  12522.391066   22857.413921    63.042223     1.471297\n",
       "std       2.204062   6345.017587   19125.464147    15.836710     0.436159\n",
       "min    1998.000000    850.000000       2.000000     2.800000     0.000000\n",
       "25%    2016.000000   8290.000000    9446.000000    55.400000     1.000000\n",
       "50%    2017.000000  10795.000000   18513.000000    62.800000     1.500000\n",
       "75%    2018.000000  14995.000000   31063.750000    69.000000     1.800000\n",
       "max    2020.000000  59995.000000  174419.000000   235.000000     4.500000"
      ]
     },
     "execution_count": 66,
     "metadata": {},
     "output_type": "execute_result"
    }
   ],
   "source": [
    "df.describe()"
   ]
  },
  {
   "cell_type": "code",
   "execution_count": 67,
   "id": "3b89f5a0",
   "metadata": {},
   "outputs": [
    {
     "data": {
      "text/plain": [
       " Yaris            2122\n",
       " Aygo             1961\n",
       " Auris             712\n",
       " C-HR              479\n",
       " RAV4              473\n",
       " Corolla           267\n",
       " Prius             232\n",
       " Avensis           115\n",
       " Verso             114\n",
       " Hilux              86\n",
       " GT86               73\n",
       " Land Cruiser       51\n",
       " PROACE VERSO       15\n",
       " Supra              12\n",
       " Camry              11\n",
       " IQ                  8\n",
       " Urban Cruiser       4\n",
       " Verso-S             3\n",
       "Name: model, dtype: int64"
      ]
     },
     "execution_count": 67,
     "metadata": {},
     "output_type": "execute_result"
    }
   ],
   "source": [
    "df[\"model\"].value_counts()"
   ]
  },
  {
   "cell_type": "code",
   "execution_count": 68,
   "id": "a37bfeba",
   "metadata": {},
   "outputs": [
    {
     "data": {
      "text/plain": [
       "Manual       3826\n",
       "Automatic    2657\n",
       "Semi-Auto     254\n",
       "Other           1\n",
       "Name: transmission, dtype: int64"
      ]
     },
     "execution_count": 68,
     "metadata": {},
     "output_type": "execute_result"
    }
   ],
   "source": [
    "df[\"transmission\"].value_counts()"
   ]
  },
  {
   "cell_type": "code",
   "execution_count": 69,
   "id": "0d5aad82",
   "metadata": {},
   "outputs": [
    {
     "data": {
      "text/plain": [
       "Petrol    4087\n",
       "Hybrid    2043\n",
       "Diesel     503\n",
       "Other      105\n",
       "Name: fuelType, dtype: int64"
      ]
     },
     "execution_count": 69,
     "metadata": {},
     "output_type": "execute_result"
    }
   ],
   "source": [
    "df[\"fuelType\"].value_counts()"
   ]
  },
  {
   "cell_type": "markdown",
   "id": "eb9f06ee",
   "metadata": {},
   "source": [
    "#### Separating the features and target variable"
   ]
  },
  {
   "cell_type": "code",
   "execution_count": 70,
   "id": "819f17aa",
   "metadata": {},
   "outputs": [
    {
     "name": "stdout",
     "output_type": "stream",
     "text": [
      "Shape of x =  (6738, 3)\n",
      "Shape of y =  (6738, 1)\n"
     ]
    }
   ],
   "source": [
    "features = ['year','mileage', 'engineSize']\n",
    "target = ['price']\n",
    "\n",
    "x = df[features]\n",
    "y = df[target]\n",
    "\n",
    "print(\"Shape of x = \", x.shape)\n",
    "print(\"Shape of y = \", y.shape)"
   ]
  },
  {
   "cell_type": "markdown",
   "id": "6f442db6",
   "metadata": {},
   "source": [
    "#### split train and test set"
   ]
  },
  {
   "cell_type": "code",
   "execution_count": 71,
   "id": "2c3c71d2",
   "metadata": {},
   "outputs": [
    {
     "name": "stdout",
     "output_type": "stream",
     "text": [
      "(5390, 3) (1348, 3) (5390, 1) (1348, 1)\n"
     ]
    }
   ],
   "source": [
    "x_train, x_test, y_train, y_test=train_test_split(x,y,test_size=0.2,random_state=42)\n",
    "print(x_train.shape, x_test.shape, y_train.shape, y_test.shape)"
   ]
  },
  {
   "cell_type": "markdown",
   "id": "4a1b8d16",
   "metadata": {},
   "source": [
    "#### Linear Regression"
   ]
  },
  {
   "cell_type": "code",
   "execution_count": 72,
   "id": "1b4ec03d",
   "metadata": {},
   "outputs": [],
   "source": [
    "model = LinearRegression()\n",
    "model = model.fit(x_train, y_train)"
   ]
  },
  {
   "cell_type": "markdown",
   "id": "7e6d6328",
   "metadata": {},
   "source": [
    "y = m1x1 + m2x2 + m3x3 +m4x4 + c"
   ]
  },
  {
   "cell_type": "code",
   "execution_count": 73,
   "id": "a61fb376",
   "metadata": {},
   "outputs": [
    {
     "name": "stdout",
     "output_type": "stream",
     "text": [
      "[[ 8.53091515e+02 -7.42080602e-02  1.13380117e+04]]\n"
     ]
    }
   ],
   "source": [
    "coefficients = model.coef_\n",
    "print(coefficients)"
   ]
  },
  {
   "cell_type": "code",
   "execution_count": 74,
   "id": "a92ff624",
   "metadata": {},
   "outputs": [
    {
     "name": "stdout",
     "output_type": "stream",
     "text": [
      "[-1722949.17079018]\n"
     ]
    }
   ],
   "source": [
    "c = model.intercept_\n",
    "print(c)"
   ]
  },
  {
   "cell_type": "code",
   "execution_count": 75,
   "id": "9be129cf",
   "metadata": {},
   "outputs": [
    {
     "data": {
      "text/html": [
       "<div>\n",
       "<style scoped>\n",
       "    .dataframe tbody tr th:only-of-type {\n",
       "        vertical-align: middle;\n",
       "    }\n",
       "\n",
       "    .dataframe tbody tr th {\n",
       "        vertical-align: top;\n",
       "    }\n",
       "\n",
       "    .dataframe thead th {\n",
       "        text-align: right;\n",
       "    }\n",
       "</style>\n",
       "<table border=\"1\" class=\"dataframe\">\n",
       "  <thead>\n",
       "    <tr style=\"text-align: right;\">\n",
       "      <th></th>\n",
       "      <th>features</th>\n",
       "      <th>coefficients</th>\n",
       "    </tr>\n",
       "  </thead>\n",
       "  <tbody>\n",
       "    <tr>\n",
       "      <th>0</th>\n",
       "      <td>year</td>\n",
       "      <td>853.091515</td>\n",
       "    </tr>\n",
       "    <tr>\n",
       "      <th>1</th>\n",
       "      <td>mileage</td>\n",
       "      <td>-0.074208</td>\n",
       "    </tr>\n",
       "    <tr>\n",
       "      <th>2</th>\n",
       "      <td>engineSize</td>\n",
       "      <td>11338.011738</td>\n",
       "    </tr>\n",
       "  </tbody>\n",
       "</table>\n",
       "</div>"
      ],
      "text/plain": [
       "     features  coefficients\n",
       "0        year    853.091515\n",
       "1     mileage     -0.074208\n",
       "2  engineSize  11338.011738"
      ]
     },
     "metadata": {},
     "output_type": "display_data"
    }
   ],
   "source": [
    "coef_df = pd.DataFrame({\"features\": x.columns, \n",
    "                       \"coefficients\": np.squeeze(coefficients)})\n",
    "\n",
    "display(coef_df)"
   ]
  },
  {
   "cell_type": "markdown",
   "id": "72e04784",
   "metadata": {},
   "source": [
    "#### Prediction"
   ]
  },
  {
   "cell_type": "code",
   "execution_count": 76,
   "id": "0254952b",
   "metadata": {},
   "outputs": [
    {
     "name": "stdout",
     "output_type": "stream",
     "text": [
      "[[27582.51671811]\n",
      " [ 2122.34818917]\n",
      " [12188.67648397]\n",
      " ...\n",
      " [14377.73136225]\n",
      " [ 7517.58461566]\n",
      " [ 9033.23734053]]\n"
     ]
    }
   ],
   "source": [
    "y_prd = model.predict(x_test)\n",
    "print(y_prd)"
   ]
  },
  {
   "cell_type": "code",
   "execution_count": 77,
   "id": "b52e07e4",
   "metadata": {},
   "outputs": [
    {
     "name": "stdout",
     "output_type": "stream",
     "text": [
      "      price\n",
      "381   37440\n",
      "2476   4159\n",
      "2855  10600\n",
      "2018   8995\n",
      "2185  11000\n",
      "...     ...\n",
      "4715  10800\n",
      "5374   7495\n",
      "1027  10790\n",
      "2802   9991\n",
      "3789   8298\n",
      "\n",
      "[1348 rows x 1 columns]\n"
     ]
    }
   ],
   "source": [
    "print(y_test)"
   ]
  },
  {
   "cell_type": "markdown",
   "id": "1d5fa682",
   "metadata": {},
   "source": [
    "#### Prediction Error"
   ]
  },
  {
   "cell_type": "code",
   "execution_count": 78,
   "id": "01023418",
   "metadata": {},
   "outputs": [
    {
     "name": "stdout",
     "output_type": "stream",
     "text": [
      "MAE =  2289.0578269183125\n",
      "MSE =  9980266.317690909\n",
      "RMSE =  3159.155950201083\n",
      "r_squared =  0.765480696041233\n"
     ]
    }
   ],
   "source": [
    "MAE = mean_absolute_error(y_test, y_prd)\n",
    "print(\"MAE = \", MAE)\n",
    "\n",
    "MSE = mean_squared_error(y_test, y_prd, squared=True)\n",
    "print(\"MSE = \", MSE)\n",
    "\n",
    "RMSE = mean_squared_error(y_test, y_prd, squared=False)\n",
    "print(\"RMSE = \", RMSE)\n",
    "\n",
    "r2 = r2_score(y_test, y_prd)\n",
    "print(\"r_squared = \", r2)"
   ]
  },
  {
   "cell_type": "code",
   "execution_count": null,
   "id": "332d4117",
   "metadata": {},
   "outputs": [],
   "source": []
  }
 ],
 "metadata": {
  "kernelspec": {
   "display_name": "Python 3 (ipykernel)",
   "language": "python",
   "name": "python3"
  },
  "language_info": {
   "codemirror_mode": {
    "name": "ipython",
    "version": 3
   },
   "file_extension": ".py",
   "mimetype": "text/x-python",
   "name": "python",
   "nbconvert_exporter": "python",
   "pygments_lexer": "ipython3",
   "version": "3.9.7"
  }
 },
 "nbformat": 4,
 "nbformat_minor": 5
}
